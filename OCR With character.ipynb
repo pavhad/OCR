{
 "cells": [
  {
   "cell_type": "code",
   "execution_count": 1,
   "metadata": {},
   "outputs": [],
   "source": []
  },
  {
   "cell_type": "code",
   "execution_count": 36,
   "metadata": {},
   "outputs": [
    {
     "data": {
      "text/plain": [
       "-1"
      ]
     },
     "execution_count": 36,
     "metadata": {},
     "output_type": "execute_result"
    }
   ],
   "source": [
    "import cv2\n",
    "import pytesseract\n",
    "pytesseract.pytesseract.tesseract_cmd = (\n",
    "    r\"C:\\Program Files (x86)\\Tesseract-OCR\\tesseract\"\n",
    ")\n",
    "# 'C:\\\\Users\\\\panka\\\\Anaconda3\\\\Scripts\\\\pytesseract.exe'\n",
    "img = cv2.imread('i1Abv.png')\n",
    "img = cv2.cvtColor(img,cv2.COLOR_BGR2RGB)\n",
    "\n",
    "h_img,w_img, _ = img.shape\n",
    "boxes = pytesseract.image_to_boxes(img)\n",
    "\n",
    "# for b in boxes.splitlines():\n",
    "#     b = b.split(' ')\n",
    "#     x,y,w,h = int(b[1]),int(b[2]),int(b[3]),int(b[4])\n",
    "#     cv2.rectangle(img,(x,h_img-y),(w,h_img-h),(0,0,255),1)\n",
    "#     cv2.putText(img,b[0],(x,h_img-y+25),cv2.FONT_HERSHEY_COMPLEX,1,(50,50,255),2)\n",
    "    \n",
    "data = pytesseract.image_to_data(img)\n",
    "\n",
    "for x,b in enumerate(data.splitlines()):\n",
    "    if x!= 0:\n",
    "        b = b.split()\n",
    "        if len(b) == 12:\n",
    "            x,y,w,h = int(b[6]),int(b[7]),int(b[8]),int(b[9])\n",
    "            cv2.rectangle(img,(x,y),(w+x,h+y),(0,0,255),3)\n",
    "            cv2.putText(img,b[11],(x,y),cv2.FONT_HERSHEY_COMPLEX,1,(50,50,255),2) \n",
    "\n",
    "\n",
    "cv2.imshow('Result',img)\n",
    "cv2.waitKey(0)"
   ]
  },
  {
   "cell_type": "code",
   "execution_count": null,
   "metadata": {},
   "outputs": [],
   "source": []
  }
 ],
 "metadata": {
  "kernelspec": {
   "display_name": "Python 3",
   "language": "python",
   "name": "python3"
  },
  "language_info": {
   "codemirror_mode": {
    "name": "ipython",
    "version": 3
   },
   "file_extension": ".py",
   "mimetype": "text/x-python",
   "name": "python",
   "nbconvert_exporter": "python",
   "pygments_lexer": "ipython3",
   "version": "3.6.5"
  }
 },
 "nbformat": 4,
 "nbformat_minor": 2
}
